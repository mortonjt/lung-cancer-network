{
 "cells": [
  {
   "cell_type": "markdown",
   "metadata": {},
   "source": [
    "# Network visualization\n",
    "\n",
    "This notebook constructs a network visualization connecting bacterial species to KEGG pathways."
   ]
  },
  {
   "cell_type": "code",
   "execution_count": 1,
   "metadata": {},
   "outputs": [],
   "source": [
    "# Parameters\n",
    "d_col = 'C(Advanced_Stage_label)[T.Local]'  # node color\n",
    "ew = \"rank\"                           # edge weight\n",
    "taxa_level = 'Rank6'                  # taxonomy level"
   ]
  },
  {
   "cell_type": "code",
   "execution_count": 2,
   "metadata": {},
   "outputs": [
    {
     "data": {
      "text/html": [
       "<style>.container { width:100% !important; }</style>"
      ],
      "text/plain": [
       "<IPython.core.display.HTML object>"
      ]
     },
     "metadata": {},
     "output_type": "display_data"
    }
   ],
   "source": [
    "# Preliminaries\n",
    "%matplotlib inline\n",
    "\n",
    "import numpy as np\n",
    "import matplotlib.mlab as mlab\n",
    "import matplotlib.pyplot as plt\n",
    "import seaborn as sns\n",
    "from IPython.display import display, HTML\n",
    "\n",
    "def widen_notebook():\n",
    "    display(HTML(\"<style>.container { width:100% !important; }</style>\"))\n",
    "widen_notebook()"
   ]
  },
  {
   "cell_type": "code",
   "execution_count": 3,
   "metadata": {},
   "outputs": [
    {
     "name": "stdout",
     "output_type": "stream",
     "text": [
      "Cancer_related_path1_edges.csv\r\n",
      "Cancer_related_path1_edges.txt\r\n",
      "Cancer_related_path1_ranks.csv\r\n",
      "Cancer_related_path2_edges.csv\r\n",
      "Cancer_related_path2_edges.txt\r\n",
      "\u001b[31mKO.biom\u001b[m\u001b[m\r\n",
      "\u001b[31mLC_KO_metadata.txt\u001b[m\u001b[m\r\n",
      "Microbiome_with_paired_RNA_otu_table.a1.biom.txt\r\n",
      "cancer_related_paths_2_ranks.csv\r\n",
      "edges.py\r\n",
      "edges.py~\r\n",
      "edges_k5.txt\r\n",
      "\u001b[31mmicrobe-metadata.txt\u001b[m\u001b[m\r\n",
      "\u001b[31mmicrobes.biom\u001b[m\u001b[m\r\n",
      "microbes.txt\r\n",
      "\u001b[31mranks.csv\u001b[m\u001b[m\r\n"
     ]
    }
   ],
   "source": [
    "# data files\n",
    "!ls ../data/edges/lung-cancer"
   ]
  },
  {
   "cell_type": "code",
   "execution_count": 4,
   "metadata": {},
   "outputs": [],
   "source": [
    "edges_txt = \"../data/edges/lung-cancer/Cancer_related_path2_edges.txt\"\n",
    "kegg_txt = \"../data/edges/lung-cancer/LC_KO_metadata.txt\"\n",
    "microbes_txt = \"../data/edges/lung-cancer/microbe-metadata.txt\"\n",
    "full_microbes_biom = \"../data/edges/lung-cancer/Microbiome_with_paired_RNA_otu_table.a1.biom.txt\"\n",
    "filtered_microbes_biom = \"../data/edges/lung-cancer/microbes.txt\""
   ]
  },
  {
   "cell_type": "code",
   "execution_count": 5,
   "metadata": {},
   "outputs": [
    {
     "data": {
      "text/plain": [
       "(1750, 1554, 350)"
      ]
     },
     "execution_count": 5,
     "metadata": {},
     "output_type": "execute_result"
    }
   ],
   "source": [
    "# Read data files into lists of dictionaries\n",
    "def split_commas(line):\n",
    "    return line.strip().split(\"\\t\")\n",
    "\n",
    "def CSVtodicts(filename):\n",
    "    f = open(filename)\n",
    "    result = []\n",
    "    headers = split_commas(f.readline())\n",
    "    for line in f.readlines():\n",
    "        values = split_commas(line)\n",
    "        dictionary = dict(zip(headers, values))\n",
    "        result.append(dictionary)\n",
    "    return result\n",
    "\n",
    "edges = CSVtodicts(edges_txt)\n",
    "keggs = CSVtodicts(kegg_txt)\n",
    "microbes = CSVtodicts(microbes_txt)\n",
    "\n",
    "len(edges), len(keggs), len(microbes)"
   ]
  },
  {
   "cell_type": "code",
   "execution_count": 6,
   "metadata": {},
   "outputs": [
    {
     "name": "stderr",
     "output_type": "stream",
     "text": [
      "/Users/jmorton/miniconda3/envs/jpnetviz/lib/python2.7/site-packages/ipykernel_launcher.py:2: FutureWarning: read_table is deprecated, use read_csv instead, passing sep='\\t'.\n",
      "  \n",
      "/Users/jmorton/miniconda3/envs/jpnetviz/lib/python2.7/site-packages/ipykernel_launcher.py:3: FutureWarning: read_table is deprecated, use read_csv instead, passing sep='\\t'.\n",
      "  This is separate from the ipykernel package so we can avoid doing imports until\n",
      "/Users/jmorton/miniconda3/envs/jpnetviz/lib/python2.7/site-packages/ipykernel_launcher.py:4: FutureWarning: read_table is deprecated, use read_csv instead, passing sep='\\t'.\n",
      "  after removing the cwd from sys.path.\n",
      "/Users/jmorton/miniconda3/envs/jpnetviz/lib/python2.7/site-packages/ipykernel_launcher.py:5: FutureWarning: read_table is deprecated, use read_csv instead, passing sep='\\t'.\n",
      "  \"\"\"\n",
      "/Users/jmorton/miniconda3/envs/jpnetviz/lib/python2.7/site-packages/ipykernel_launcher.py:6: FutureWarning: read_table is deprecated, use read_csv instead, passing sep='\\t'.\n",
      "  \n"
     ]
    }
   ],
   "source": [
    "import pandas as pd\n",
    "microbes = pd.read_table(microbes_txt)\n",
    "keggs = pd.read_table(kegg_txt)\n",
    "edges = pd.read_table(edges_txt)\n",
    "full_microbe_counts = pd.read_table(full_microbes_biom, skiprows=1, index_col=0)\n",
    "filtered_microbe_counts = pd.read_table(filtered_microbes_biom, skiprows=1, index_col=0)\n",
    "\n",
    "# scrub dataframe\n",
    "featureid = '#SampleID'"
   ]
  },
  {
   "cell_type": "code",
   "execution_count": 7,
   "metadata": {},
   "outputs": [],
   "source": [
    "microbes['abbv_name'] = microbes.apply(lambda x: '%s%d' % (x[taxa_level], x['#SampleID']), axis=1)"
   ]
  },
  {
   "cell_type": "code",
   "execution_count": 8,
   "metadata": {},
   "outputs": [],
   "source": [
    "taxa = full_microbe_counts.iloc[:, -1]\n",
    "microbe_counts = full_microbe_counts.iloc[:, :-1]"
   ]
  },
  {
   "cell_type": "code",
   "execution_count": 9,
   "metadata": {},
   "outputs": [
    {
     "data": {
      "text/plain": [
       "((11353, 85), (350, 71))"
      ]
     },
     "execution_count": 9,
     "metadata": {},
     "output_type": "execute_result"
    }
   ],
   "source": [
    "microbe_counts.shape, filtered_microbe_counts.shape"
   ]
  },
  {
   "cell_type": "code",
   "execution_count": 10,
   "metadata": {},
   "outputs": [],
   "source": [
    "microbe_counts = microbe_counts.loc[:, filtered_microbe_counts.columns]"
   ]
  },
  {
   "cell_type": "code",
   "execution_count": 11,
   "metadata": {},
   "outputs": [
    {
     "data": {
      "text/plain": [
       "<matplotlib.axes._subplots.AxesSubplot at 0x11783a5d0>"
      ]
     },
     "execution_count": 11,
     "metadata": {},
     "output_type": "execute_result"
    },
    {
     "data": {
      "image/png": "[encoded data removed]",
      "text/plain": [
       "<Figure size 432x288 with 1 Axes>"
      ]
     },
     "metadata": {
      "needs_background": "light"
     },
     "output_type": "display_data"
    }
   ],
   "source": [
    "sns.distplot(microbe_counts.sum(axis=0))"
   ]
  },
  {
   "cell_type": "code",
   "execution_count": 12,
   "metadata": {},
   "outputs": [],
   "source": [
    "microbe_props = microbe_counts.apply(lambda x: x / x.sum(), axis=0)"
   ]
  },
  {
   "cell_type": "code",
   "execution_count": 13,
   "metadata": {},
   "outputs": [],
   "source": [
    "microbe_props = microbe_props.loc[microbes['#SampleID']].T"
   ]
  },
  {
   "cell_type": "code",
   "execution_count": 14,
   "metadata": {},
   "outputs": [],
   "source": [
    "mean_microbe_abundance = np.log(microbe_props.mean(axis=0))"
   ]
  },
  {
   "cell_type": "code",
   "execution_count": 15,
   "metadata": {},
   "outputs": [],
   "source": [
    "norm_microbe_abundance = (mean_microbe_abundance -  mean_microbe_abundance.min()) / (mean_microbe_abundance.max() - mean_microbe_abundance.min())"
   ]
  },
  {
   "cell_type": "code",
   "execution_count": 16,
   "metadata": {
    "scrolled": true
   },
   "outputs": [
    {
     "data": {
      "text/plain": [
       "<matplotlib.axes._subplots.AxesSubplot at 0x11771a390>"
      ]
     },
     "execution_count": 16,
     "metadata": {},
     "output_type": "execute_result"
    },
    {
     "data": {
      "image/png": "[encoded data removed]",
      "text/plain": [
       "<Figure size 432x288 with 1 Axes>"
      ]
     },
     "metadata": {
      "needs_background": "light"
     },
     "output_type": "display_data"
    }
   ],
   "source": [
    "fontmin = 8\n",
    "fontmax = 30\n",
    "\n",
    "fontsize = norm_microbe_abundance * (fontmax - fontmin) + fontmin\n",
    "\n",
    "sns.distplot(norm_microbe_abundance)"
   ]
  },
  {
   "cell_type": "code",
   "execution_count": 17,
   "metadata": {},
   "outputs": [],
   "source": [
    "select_microbes = list(set(edges.src.values))\n",
    "select_kegg = list(set(edges.dest.values))"
   ]
  },
  {
   "cell_type": "code",
   "execution_count": 18,
   "metadata": {},
   "outputs": [
    {
     "data": {
      "text/html": [
       "<div>\n",
       "<style scoped>\n",
       "    .dataframe tbody tr th:only-of-type {\n",
       "        vertical-align: middle;\n",
       "    }\n",
       "\n",
       "    .dataframe tbody tr th {\n",
       "        vertical-align: top;\n",
       "    }\n",
       "\n",
       "    .dataframe thead th {\n",
       "        text-align: right;\n",
       "    }\n",
       "</style>\n",
       "<table border=\"1\" class=\"dataframe\">\n",
       "  <thead>\n",
       "    <tr style=\"text-align: right;\">\n",
       "      <th></th>\n",
       "      <th>#SampleID</th>\n",
       "      <th>Rank1</th>\n",
       "      <th>Rank2</th>\n",
       "      <th>Rank3</th>\n",
       "      <th>Rank4</th>\n",
       "      <th>Rank5</th>\n",
       "      <th>Rank6</th>\n",
       "      <th>Rank7</th>\n",
       "      <th>Intercept</th>\n",
       "      <th>C(Advanced_Stage_label)[T.Local]</th>\n",
       "      <th>C(Advanced_Stage_label)[T.n.a]</th>\n",
       "      <th>C(Smoking_status)[T.Current]</th>\n",
       "      <th>C(Smoking_status)[T.Former]</th>\n",
       "      <th>C(Smoking_status)[T.Never]</th>\n",
       "      <th>C(Smoking_status)[T.current]</th>\n",
       "      <th>abbv_name</th>\n",
       "    </tr>\n",
       "  </thead>\n",
       "  <tbody>\n",
       "    <tr>\n",
       "      <th>0</th>\n",
       "      <td>4017244</td>\n",
       "      <td>k__Bacteria</td>\n",
       "      <td>p__Spirochaetes</td>\n",
       "      <td>c__[Leptospirae]</td>\n",
       "      <td>o__[Leptospirales]</td>\n",
       "      <td>f__Leptospiraceae</td>\n",
       "      <td>g__Turneriella</td>\n",
       "      <td>s__</td>\n",
       "      <td>1.522355</td>\n",
       "      <td>0.600911</td>\n",
       "      <td>0.484972</td>\n",
       "      <td>1.186667</td>\n",
       "      <td>1.097317</td>\n",
       "      <td>1.218944</td>\n",
       "      <td>1.204769</td>\n",
       "      <td>g__Turneriella4017244</td>\n",
       "    </tr>\n",
       "    <tr>\n",
       "      <th>1</th>\n",
       "      <td>31235</td>\n",
       "      <td>k__Bacteria</td>\n",
       "      <td>p__Fusobacteria</td>\n",
       "      <td>c__Fusobacteriia</td>\n",
       "      <td>o__Fusobacteriales</td>\n",
       "      <td>f__Leptotrichiaceae</td>\n",
       "      <td>g__Leptotrichia</td>\n",
       "      <td>s__</td>\n",
       "      <td>-0.327546</td>\n",
       "      <td>0.149172</td>\n",
       "      <td>0.807207</td>\n",
       "      <td>1.834725</td>\n",
       "      <td>0.766335</td>\n",
       "      <td>-1.905400</td>\n",
       "      <td>1.057979</td>\n",
       "      <td>g__Leptotrichia31235</td>\n",
       "    </tr>\n",
       "    <tr>\n",
       "      <th>2</th>\n",
       "      <td>92263</td>\n",
       "      <td>k__Bacteria</td>\n",
       "      <td>p__Firmicutes</td>\n",
       "      <td>c__Clostridia</td>\n",
       "      <td>o__Clostridiales</td>\n",
       "      <td>f__Veillonellaceae</td>\n",
       "      <td>g__Selenomonas</td>\n",
       "      <td>s__</td>\n",
       "      <td>-0.010629</td>\n",
       "      <td>-0.857474</td>\n",
       "      <td>3.128323</td>\n",
       "      <td>-0.401276</td>\n",
       "      <td>0.788348</td>\n",
       "      <td>-1.784287</td>\n",
       "      <td>-0.854694</td>\n",
       "      <td>g__Selenomonas92263</td>\n",
       "    </tr>\n",
       "    <tr>\n",
       "      <th>3</th>\n",
       "      <td>361839</td>\n",
       "      <td>k__Bacteria</td>\n",
       "      <td>p__Cyanobacteria</td>\n",
       "      <td>c__Chloroplast</td>\n",
       "      <td>o__Stramenopiles</td>\n",
       "      <td>f__</td>\n",
       "      <td>g__</td>\n",
       "      <td>s__</td>\n",
       "      <td>-1.042349</td>\n",
       "      <td>0.820555</td>\n",
       "      <td>-0.761779</td>\n",
       "      <td>-2.258732</td>\n",
       "      <td>0.044424</td>\n",
       "      <td>-1.736769</td>\n",
       "      <td>-0.128879</td>\n",
       "      <td>g__361839</td>\n",
       "    </tr>\n",
       "    <tr>\n",
       "      <th>4</th>\n",
       "      <td>228207</td>\n",
       "      <td>k__Bacteria</td>\n",
       "      <td>p__Proteobacteria</td>\n",
       "      <td>c__Gammaproteobacteria</td>\n",
       "      <td>o__Pseudomonadales</td>\n",
       "      <td>f__Moraxellaceae</td>\n",
       "      <td>g__</td>\n",
       "      <td>s__</td>\n",
       "      <td>-1.168758</td>\n",
       "      <td>1.597366</td>\n",
       "      <td>-0.659583</td>\n",
       "      <td>-0.043241</td>\n",
       "      <td>-0.846890</td>\n",
       "      <td>-1.511476</td>\n",
       "      <td>-0.054994</td>\n",
       "      <td>g__228207</td>\n",
       "    </tr>\n",
       "  </tbody>\n",
       "</table>\n",
       "</div>"
      ],
      "text/plain": [
       "   #SampleID        Rank1              Rank2                   Rank3  \\\n",
       "0    4017244  k__Bacteria    p__Spirochaetes        c__[Leptospirae]   \n",
       "1      31235  k__Bacteria    p__Fusobacteria        c__Fusobacteriia   \n",
       "2      92263  k__Bacteria      p__Firmicutes           c__Clostridia   \n",
       "3     361839  k__Bacteria   p__Cyanobacteria          c__Chloroplast   \n",
       "4     228207  k__Bacteria  p__Proteobacteria  c__Gammaproteobacteria   \n",
       "\n",
       "                Rank4                Rank5            Rank6 Rank7  Intercept  \\\n",
       "0  o__[Leptospirales]    f__Leptospiraceae   g__Turneriella   s__   1.522355   \n",
       "1  o__Fusobacteriales  f__Leptotrichiaceae  g__Leptotrichia   s__  -0.327546   \n",
       "2    o__Clostridiales   f__Veillonellaceae   g__Selenomonas   s__  -0.010629   \n",
       "3    o__Stramenopiles                  f__              g__   s__  -1.042349   \n",
       "4  o__Pseudomonadales     f__Moraxellaceae              g__   s__  -1.168758   \n",
       "\n",
       "   C(Advanced_Stage_label)[T.Local]  C(Advanced_Stage_label)[T.n.a]  \\\n",
       "0                          0.600911                        0.484972   \n",
       "1                          0.149172                        0.807207   \n",
       "2                         -0.857474                        3.128323   \n",
       "3                          0.820555                       -0.761779   \n",
       "4                          1.597366                       -0.659583   \n",
       "\n",
       "   C(Smoking_status)[T.Current]  C(Smoking_status)[T.Former]  \\\n",
       "0                      1.186667                     1.097317   \n",
       "1                      1.834725                     0.766335   \n",
       "2                     -0.401276                     0.788348   \n",
       "3                     -2.258732                     0.044424   \n",
       "4                     -0.043241                    -0.846890   \n",
       "\n",
       "   C(Smoking_status)[T.Never]  C(Smoking_status)[T.current]  \\\n",
       "0                    1.218944                      1.204769   \n",
       "1                   -1.905400                      1.057979   \n",
       "2                   -1.784287                     -0.854694   \n",
       "3                   -1.736769                     -0.128879   \n",
       "4                   -1.511476                     -0.054994   \n",
       "\n",
       "               abbv_name  \n",
       "0  g__Turneriella4017244  \n",
       "1   g__Leptotrichia31235  \n",
       "2    g__Selenomonas92263  \n",
       "3              g__361839  \n",
       "4              g__228207  "
      ]
     },
     "execution_count": 18,
     "metadata": {},
     "output_type": "execute_result"
    }
   ],
   "source": [
    "microbes.head()"
   ]
  },
  {
   "cell_type": "code",
   "execution_count": 19,
   "metadata": {},
   "outputs": [
    {
     "data": {
      "text/plain": [
       "'o__Viruses_noname'"
      ]
     },
     "execution_count": 19,
     "metadata": {},
     "output_type": "execute_result"
    }
   ],
   "source": [
    "def abbreviate(x):\n",
    "    return x.split('|')[-1]\n",
    "abbreviate('k__Viruses|p__Viruses_noname|c__Viruses_noname|o__Viruses_noname')"
   ]
  },
  {
   "cell_type": "code",
   "execution_count": 20,
   "metadata": {},
   "outputs": [],
   "source": [
    "edges['src'] = edges.src.apply(lambda x: int(x.replace('\\\"', '')))\n",
    "edges['dest'] = edges.dest.apply(lambda x: x.replace('\\\"', ''))\n",
    "\n",
    "microbe_dicts = microbes.T.to_dict().values()\n",
    "kegg_dicts = keggs.T.to_dict().values()\n",
    "edge_dicts = edges.T.to_dict().values()"
   ]
  },
  {
   "cell_type": "code",
   "execution_count": 21,
   "metadata": {},
   "outputs": [],
   "source": [
    "microbe_metadata = microbes.set_index('#SampleID')"
   ]
  },
  {
   "cell_type": "code",
   "execution_count": 22,
   "metadata": {},
   "outputs": [],
   "source": [
    "# scrub edges, because of R ...\n",
    "edges['src_abbv'] = edges.src.apply(lambda x: microbe_metadata.loc[x, 'abbv_name'])"
   ]
  },
  {
   "cell_type": "code",
   "execution_count": 23,
   "metadata": {},
   "outputs": [
    {
     "data": {
      "text/plain": [
       "('g__1081815',\n",
       " {'#SampleID': 1081815,\n",
       "  'C(Advanced_Stage_label)[T.Local]': 0.280803757,\n",
       "  'C(Advanced_Stage_label)[T.n.a]': -0.39687682,\n",
       "  'C(Smoking_status)[T.Current]': 0.122924215,\n",
       "  'C(Smoking_status)[T.Former]': -0.556633833,\n",
       "  'C(Smoking_status)[T.Never]': 1.897413645,\n",
       "  'C(Smoking_status)[T.current]': -0.971688392,\n",
       "  'Intercept': 0.135780182,\n",
       "  'Rank1': 'k__Bacteria',\n",
       "  'Rank2': 'p__Actinobacteria',\n",
       "  'Rank3': 'c__Actinobacteria',\n",
       "  'Rank4': 'o__Actinomycetales',\n",
       "  'Rank5': 'f__Micrococcaceae',\n",
       "  'Rank6': 'g__',\n",
       "  'Rank7': 's__',\n",
       "  'abbv_name': 'g__1081815'})"
      ]
     },
     "execution_count": 23,
     "metadata": {},
     "output_type": "execute_result"
    }
   ],
   "source": [
    "# name abbreviation mappings.\n",
    "def abbreviate(d):\n",
    "    return '%s%d' % (d[taxa_level], d[featureid])\n",
    "\n",
    "def microbe_name_dict(dicts):\n",
    "    return dict([abbreviate(d), d] for d in dicts)\n",
    "\n",
    "name2microbe = microbe_name_dict(microbe_dicts)\n",
    "name2microbe.items()[15]"
   ]
  },
  {
   "cell_type": "code",
   "execution_count": 24,
   "metadata": {},
   "outputs": [],
   "source": [
    "def kegg_name_dict(dicts):\n",
    "    return dict([d['#OTUID'], d] for d in dicts)"
   ]
  },
  {
   "cell_type": "code",
   "execution_count": 25,
   "metadata": {},
   "outputs": [
    {
     "data": {
      "text/plain": [
       "('Competence-related_DNA_transformation_transporter_(DNA-T)_core_components',\n",
       " {'#OTUID': 'Competence-related_DNA_transformation_transporter_(DNA-T)_core_components',\n",
       "  'Interest': 'N'})"
      ]
     },
     "execution_count": 25,
     "metadata": {},
     "output_type": "execute_result"
    }
   ],
   "source": [
    "name2kegg = kegg_name_dict(kegg_dicts)\n",
    "name2kegg.items()[32]"
   ]
  },
  {
   "cell_type": "code",
   "execution_count": 26,
   "metadata": {},
   "outputs": [],
   "source": [
    "# Construct the network graph from the edges.\n",
    "from jp_gene_viz import dGraph\n",
    "G = dGraph.WGraph()\n",
    "for e in edge_dicts:\n",
    "    name = microbe_metadata.loc[e['src'], 'abbv_name']\n",
    "    G.add_edge(name, e[\"dest\"], e[ew], e)\n",
    "    "
   ]
  },
  {
   "cell_type": "code",
   "execution_count": 27,
   "metadata": {},
   "outputs": [
    {
     "data": {
      "application/javascript": [
       "\n",
       "// This is the javascript side to match js_proxy.py.\n",
       "// See js_proxy.py for an explanation of the command transfer\n",
       "// protocol\n",
       "\n",
       "// imitating ipywidgets/docs/source/examples/Custom Widget - Hello World.ipynb\n",
       "\n",
       "//require([\"widgets/js/widget\", \"widgets/js/manager\", \"underscore\", \"jquery\"\n",
       "//], function(widget, manager, _, $) {\n",
       "\n",
       "require.undef(\"JSProxy\");\n",
       "\n",
       "define(\"JSProxy\", ['@jupyter-widgets/base'], function(widgets) {\n",
       "\n",
       "    var JSProxyView = widgets.DOMWidgetView.extend({\n",
       "\n",
       "        render: function() {\n",
       "            var that = this;\n",
       "            that.on(\"displayed\", function() {\n",
       "                that.update();\n",
       "            });\n",
       "            // Wrap $el as a proper jQuery object\n",
       "            that.$$el = $(that.$el);\n",
       "            // \"new\" keyword emulation\n",
       "            // http://stackoverflow.com/questions/17342497/dynamically-control-arguments-while-creating-objects-in-javascript\n",
       "            that.$$el.New = function(klass, args) {\n",
       "                var obj = Object.create(klass.prototype);\n",
       "                return klass.apply(obj, args) || obj;\n",
       "            };\n",
       "\n",
       "            // fix key bindings for wayward element.\n",
       "            // XXXX This is a bit of a hack that may not be needed in future\n",
       "            // Jupyter releases.\n",
       "            that.$$el.Fix = function(element) {\n",
       "                debugger;\n",
       "                that.model.widget_manager.keyboard_manager.register_events(element);\n",
       "            };\n",
       "        },\n",
       "\n",
       "        update: function(options) {\n",
       "            var that = this;\n",
       "            var commands = that.model.get(\"commands\");\n",
       "            if (commands.length >= 2) {\n",
       "                var command_counter = commands[0];\n",
       "                var command_list = commands[1];\n",
       "                var level = commands[2];\n",
       "                level = that.check_level(level);\n",
       "                var results = [];\n",
       "                try {\n",
       "                    _.each(command_list, function(command,i) {\n",
       "                        var result = that.execute_command(command);\n",
       "                        results[i] = that.json_safe(result, level);\n",
       "                    });\n",
       "                } catch (err) {\n",
       "                    results.push(\"\" + err);\n",
       "                }\n",
       "                that.model.set(\"commands\", []);\n",
       "                that.model.set(\"results\", [command_counter, results])\n",
       "                that.touch();\n",
       "            }\n",
       "        },\n",
       "\n",
       "        execute_command: function(command) {\n",
       "            var that = this;\n",
       "            var result = command;\n",
       "            if ($.isArray(command)) {\n",
       "                var indicator = command[0];\n",
       "                var remainder = command.slice();\n",
       "                remainder.shift();\n",
       "                if (indicator == \"element\") {\n",
       "                    // Make sure the element is wrapped as a proper JQuery(UI) object\n",
       "                    if (!that.$$el) {\n",
       "                        that.$$el = $(that.$el);\n",
       "                    }\n",
       "                    result = that.$$el;\n",
       "                } else if (indicator == \"window\") {\n",
       "                    result = window;\n",
       "                } else if (indicator == \"method\") {\n",
       "                    var target_desc = remainder.shift();\n",
       "                    var target = that.execute_command(target_desc);\n",
       "                    var name = remainder.shift();\n",
       "                    var args = remainder.map(that.execute_command, that);\n",
       "                    var method = target[name];\n",
       "                    if (method) {\n",
       "                        result = method.apply(target, args);\n",
       "                    } else {\n",
       "                        result = \"In \" + target + \" no such method \" + name;\n",
       "                    }\n",
       "                } else if (indicator == \"function\") {\n",
       "                    var function_desc = remainder.shift();\n",
       "                    var function_value = that.execute_command(function_desc);\n",
       "                    var args = remainder.map(that.execute_command, that);\n",
       "                    // Use \"that\" as the \"this\" value for function values?\n",
       "                    result = function_value.apply(that, args);\n",
       "                } else if (indicator == \"id\") {\n",
       "                    result = remainder[0];\n",
       "                } else if (indicator == \"list\") {\n",
       "                    result = remainder.map(that.execute_command, that);\n",
       "                } else if (indicator == \"dict\") {\n",
       "                    result = {}\n",
       "                    var desc = remainder[0];\n",
       "                    for (var key in desc) {\n",
       "                        var key_desc = desc[key];\n",
       "                        var val = that.execute_command(key_desc);\n",
       "                        result[key] = val;\n",
       "                    }\n",
       "                } else if (indicator == \"callback\") {\n",
       "                    var identifier = remainder.shift();\n",
       "                    var data = remainder.shift();\n",
       "                    var level = remainder.shift();\n",
       "                    // sanity check\n",
       "                    level = that.check_level(level);\n",
       "                    result = that.callback_factory(identifier, data, level);\n",
       "                } else if (indicator == \"get\") {\n",
       "                    var target_desc = remainder.shift();\n",
       "                    var target = that.execute_command(target_desc);\n",
       "                    var name = remainder.shift();\n",
       "                    try {\n",
       "                        result = target[name];\n",
       "                    } catch(err) {\n",
       "                        result = \"failed to get \"+name+\" from \"+target+\" :: \"+err;\n",
       "                    }\n",
       "                } else if (indicator == \"set\") {\n",
       "                    var target_desc = remainder.shift();\n",
       "                    var target = that.execute_command(target_desc);\n",
       "                    var name = remainder.shift();\n",
       "                    var value_desc = remainder.shift()\n",
       "                    var value = that.execute_command(value_desc);\n",
       "                    target[name] = value;\n",
       "                    result = target;\n",
       "                } else if (indicator == \"null\") {\n",
       "                    target_desc = remainder.shift();\n",
       "                    that.execute_command(target_desc);\n",
       "                    result = null;\n",
       "                } else {\n",
       "                    result = \"Unknown indicator \" + indicator;\n",
       "                }\n",
       "            }\n",
       "            return result;\n",
       "        },\n",
       "\n",
       "        check_level: function(level) {\n",
       "            if ((typeof level) != \"number\" || (level < 0)) {\n",
       "                level = 0;\n",
       "            } else if (level > 5) {\n",
       "                level = 5;\n",
       "            }\n",
       "            return level;\n",
       "        },\n",
       "\n",
       "        callback_factory: function(identifier, data, level) {\n",
       "            var that = this;\n",
       "            // Counter makes sure change is noticed even if other arguments don't change.\n",
       "            var counter = 0;\n",
       "            var handler = function () {\n",
       "                counter += 1;\n",
       "                var payload = that.json_safe([identifier, data, arguments, counter], level + 1);\n",
       "                that.model.set(\"callback_results\", payload);\n",
       "                that.touch();\n",
       "            };\n",
       "            return handler;\n",
       "        },\n",
       "\n",
       "        json_safe: function(val, depth) {\n",
       "            // maybe expand later as need arises\n",
       "            var that = this;\n",
       "            var ty = (typeof val);\n",
       "            if ((ty == \"number\") || (ty == \"string\") || (ty == \"boolean\")) {\n",
       "                return val;\n",
       "            }\n",
       "            if (!val) {\n",
       "                // translate all other falsies to None\n",
       "                return null;\n",
       "            }\n",
       "            if (((typeof depth) == \"number\") && (depth > 0)) {\n",
       "                if ($.isArray(val)) {\n",
       "                    var result = [];\n",
       "                    _.each(val, function(elt, i) {\n",
       "                        var r = that.json_safe(elt, depth-1);\n",
       "                        if (r != null) {\n",
       "                            result[i] = r;\n",
       "                        }\n",
       "                    });\n",
       "                    return result;\n",
       "                } else {\n",
       "                    var result = {};\n",
       "                    for (var key in val) {\n",
       "                        var jv = that.json_safe(val[key], depth-1);\n",
       "                        if (jv != null) {\n",
       "                            result[key] = jv;\n",
       "                        }\n",
       "                    }\n",
       "                    return result;\n",
       "                }\n",
       "            }\n",
       "            return null;\n",
       "        }\n",
       "\n",
       "    });\n",
       "\n",
       "    //manager.WidgetManager.register_widget_view('JSProxyView', JSProxyView);\n",
       "    return {\n",
       "        JSProxyView: JSProxyView\n",
       "    }\n",
       "});\n"
      ],
      "text/plain": [
       "<IPython.core.display.Javascript object>"
      ]
     },
     "metadata": {},
     "output_type": "display_data"
    },
    {
     "data": {
      "application/javascript": [
       "debugger;\n",
       "// imitating ipywidgets/docs/source/examples/Custom Widget - Hello World.ipynb\n",
       "\n",
       "//require([\"widgets/js/widget\", \"widgets/js/manager\"], function(widget, manager){\n",
       "\n",
       "require.undef(\"SVGCanvas\");\n",
       "\n",
       "define(\"SVGCanvas\", ['@jupyter-widgets/base'], function(widgets) {\n",
       "    debugger;\n",
       "    var svgEventHandlerFactory = function(that) {\n",
       "        // each animation frame only send one event of each type\n",
       "        var messages = [];\n",
       "        var bufferMessage = function(message) {\n",
       "            var typ = message.payload.type;\n",
       "            var old_messages = messages;\n",
       "            var new_messages = [];\n",
       "            for (var i=0; i<old_messages.length; i++) {\n",
       "                var old_message = old_messages[i];\n",
       "                if (old_message.payload.type != typ) {\n",
       "                    new_messages.push(old_message)\n",
       "                }\n",
       "            }\n",
       "            new_messages.push(message);\n",
       "            messages = new_messages;\n",
       "            if (old_messages.length == 0) {\n",
       "                //requestAnimationFrame(sendMessagesAtFrame);\n",
       "                setTimeout(sendMessagesAtFrame, 100);\n",
       "            }\n",
       "        };\n",
       "        var sendMessagesAtFrame = function () {\n",
       "            var msgs = messages;\n",
       "            messages = [];\n",
       "            for (var i=0; i<msgs.length; i++) {\n",
       "                var message = msgs[i];\n",
       "                that.model.send(message);\n",
       "            }\n",
       "        };\n",
       "        var svgEventHandler = function(e) {\n",
       "            // ignore events while there are pending commands.\n",
       "            //if (that.model.get(\"command_pending\")) {\n",
       "            //    return;\n",
       "            //}\n",
       "            var target = e.target;\n",
       "            var info = {};\n",
       "            for (var attr in e) {\n",
       "                var val = e[attr];\n",
       "                var ty = (typeof val);\n",
       "                if ((ty == \"number\") ||\n",
       "                    (ty == \"string\") ||\n",
       "                    (ty == \"boolean\")) {\n",
       "                    info[attr] = val;\n",
       "                }\n",
       "            }\n",
       "            info.name = target.ipy_name;\n",
       "            var ept = SVGEventLocation(that, e);\n",
       "            info.svgX = ept.x;\n",
       "            info.svgY = ept.y;\n",
       "            var message = {\n",
       "                \"indicator\": \"event\",\n",
       "                \"payload\": info\n",
       "            };\n",
       "            bufferMessage(message);\n",
       "            //that.model.send(message);\n",
       "            //var json = JSON.stringify(info);\n",
       "            //that.model.set(\"event\", json);\n",
       "            //that.touch();\n",
       "        };\n",
       "        return svgEventHandler;\n",
       "    };\n",
       "\n",
       "    var SVGEventLocation = function(that, e) {\n",
       "        // http://stackoverflow.com/questions/10298658/mouse-position-inside-autoscaled-svg\n",
       "        var pt = that.reference_point;\n",
       "        var svg = that.$svg[0];\n",
       "        pt.x = e.clientX;\n",
       "        pt.y = e.clientY;\n",
       "        return pt.matrixTransform(svg.getScreenCTM().inverse());\n",
       "    }\n",
       "    \n",
       "    var SVGCanvasView = widgets.DOMWidgetView.extend({\n",
       "        \n",
       "        render: function() {\n",
       "            debugger;\n",
       "            var that = this;\n",
       "            var svg = that.svg_elt(\"svg\");\n",
       "            var eventHandler = svgEventHandlerFactory(that);\n",
       "            that.eventHandler = eventHandler;\n",
       "            that.named_elements = {};\n",
       "            svg.ipy_name = \"\";\n",
       "            that.$svg = $(svg);\n",
       "            that.reference_point = svg.createSVGPoint();\n",
       "            svg.setAttribute(\"preserveAspectRatio\", \"none\");\n",
       "            that.$el.append(that.$svg);\n",
       "            that.svg_parameters_changed();\n",
       "            //that.commands_changed();\n",
       "            that.start_watch_event();\n",
       "            //that.model.on(\"change:commands\", that.commands_changed, that);\n",
       "            that.model.on(\"msg:custom\", function(content, buffers, widget) {\n",
       "                that.handle_custom_message(content, buffers, widget);\n",
       "            });\n",
       "            that.model.on(\"change:viewBox\", that.svg_parameters_changed, that);\n",
       "            that.model.on(\"change:svg_width\", that.svg_parameters_changed, that);\n",
       "            that.model.on(\"change:svg_height\", that.svg_parameters_changed, that);\n",
       "            that.model.on(\"change:svg_style\", that.svg_parameters_changed, that);\n",
       "            that.model.on(\"change:watch_event\", that.start_watch_event, that);\n",
       "            that.model.on(\"change:unwatch_event\", that.stop_watch_event, that);\n",
       "            that.model.set(\"rendered\", true);\n",
       "            that.touch();\n",
       "        },\n",
       "        \n",
       "        start_watch_event: function() {\n",
       "            var that = this;\n",
       "            var event_types = that.model.get(\"watch_event\");\n",
       "            if (event_types != \"\") {\n",
       "                that.$svg.on(event_types, that.eventHandler);\n",
       "                that.model.set(\"watch_event\", \"\");\n",
       "                that.touch();\n",
       "            }\n",
       "        },\n",
       "        \n",
       "        stop_watch_event: function() {\n",
       "            var that = this;\n",
       "            var event_types = that.model.get(\"unwatch_event\");\n",
       "            if (event_types != \"\") {\n",
       "                that.$svg.off(event_types);\n",
       "                that.model.set(\"watch_event\", \"\");\n",
       "                that.touch();\n",
       "            }\n",
       "        },\n",
       "        \n",
       "        handle_custom_message: function(commands_pair, buffers, widget) {\n",
       "            var that = this;\n",
       "            try {\n",
       "                var svg = that.$svg[0];\n",
       "                //var commands_pair = that.get_JSON(\"commands\")\n",
       "                // ignore the counter\n",
       "                var commands = [];\n",
       "                if (commands_pair.length > 0) {\n",
       "                    commands = commands_pair[1];\n",
       "                }\n",
       "                for (var i=0; i<commands.length; i++) {\n",
       "                    var command_dict = commands[i];\n",
       "                    var indicator = command_dict[\"command\"];\n",
       "                    var method = that[\"do_\"+indicator];\n",
       "                    method(that, command_dict);\n",
       "                }\n",
       "            }\n",
       "            finally {\n",
       "                that.model.set(\"command_pending\", false);\n",
       "                that.touch();\n",
       "            }\n",
       "        },\n",
       "\n",
       "        do_fit: function(that, info) {\n",
       "            // fit viewport to bounding box.\n",
       "            var svg = that.$svg[0];\n",
       "            var bbox = svg.getBBox();\n",
       "            var D = {\"width\": bbox.width, \"height\": bbox.height, \"x\": bbox.x, \"y\": bbox.y}\n",
       "            var vbox = \"\" + D.x + \" \" + D.y + \" \" + D.width + \" \" + D.height;\n",
       "            if ((D.width > 0) && (D.height > 0)) {\n",
       "                that.model.set(\"boundingBox\", D);\n",
       "                if (info.changeView) {\n",
       "                    that.model.set(\"viewBox\", vbox);\n",
       "                }\n",
       "                // Element viewBox will be updated later by model change.\n",
       "                that.touch();\n",
       "            }\n",
       "        },\n",
       "        \n",
       "        do_add_element: function (that, info) {\n",
       "            var tag = info.tag;\n",
       "            var name = info.name;\n",
       "            var element = that.svg_elt(tag);\n",
       "            element.ipy_name = name;\n",
       "            var $element = $(element);\n",
       "            that.update_element($element, info);\n",
       "            // add event callbacks\n",
       "            that.$svg.append($element);\n",
       "            that.named_elements[name] = $element;\n",
       "        },\n",
       "        \n",
       "        do_change_element: function (that, info) {\n",
       "            var name = info.name;\n",
       "            var $element = that.named_elements[name];\n",
       "            if ($element) {\n",
       "                that.update_element($element, info);\n",
       "            } else {\n",
       "                console.warn(\"couldn't find element for \"+name);\n",
       "            }\n",
       "        },\n",
       "        \n",
       "        do_delete: function (that, info) {\n",
       "            var names = info.names;\n",
       "            for (var i=0; i<names.length; i++) {\n",
       "                var name = names[i];\n",
       "                var $element = that.named_elements[name];\n",
       "                if ($element) {\n",
       "                    $element.remove();\n",
       "                    delete that.named_elements[name];\n",
       "                }\n",
       "            }\n",
       "        },\n",
       "        \n",
       "        update_element: function($element, info) {\n",
       "            var element = $element[0];\n",
       "            var atts = info.atts;\n",
       "            var style = info.style;\n",
       "            var text = info.text;\n",
       "            if (atts) {\n",
       "                for (var att in atts) {\n",
       "                    element.setAttribute(att, atts[att]);\n",
       "                }\n",
       "            }\n",
       "            if (style) {\n",
       "                for (var styling in style) {\n",
       "                    element.style[styling] = style[styling];\n",
       "                }\n",
       "            }\n",
       "            if (text) {\n",
       "                $element.empty();\n",
       "                var node = document.createTextNode(text);\n",
       "                element.appendChild(node);\n",
       "            }\n",
       "        },\n",
       "        \n",
       "        do_empty: function (that, info) {\n",
       "            that.named_elements = {};\n",
       "            that.$svg.empty();\n",
       "        },\n",
       "        \n",
       "        svg_parameters_changed: function() {\n",
       "            var that = this;\n",
       "            var style_additions = that.get_JSON(\"svg_style\");\n",
       "            var svg = that.$svg[0];\n",
       "            svg.setAttribute(\"viewBox\", that.model.get(\"viewBox\"));\n",
       "            svg.setAttribute(\"width\", that.model.get(\"svg_width\"));\n",
       "            svg.setAttribute(\"height\", that.model.get(\"svg_height\"));\n",
       "            for (var style_attr in style_additions) {\n",
       "                svg.style[style_attr] = style_additions[style_attr];\n",
       "            }\n",
       "        },\n",
       "        \n",
       "        get_JSON: function(name) {\n",
       "            var json = this.model.get(name);\n",
       "            return $.parseJSON(json);\n",
       "        },\n",
       "        \n",
       "        svg_elt: function(kind) {\n",
       "            return document.createElementNS('http://www.w3.org/2000/svg', kind);\n",
       "        }\n",
       "        \n",
       "    });\n",
       "    \n",
       "    //manager.WidgetManager.register_widget_view('SVGCanvasView', SVGCanvasView);\n",
       "    return {\n",
       "        SVGCanvasView: SVGCanvasView\n",
       "    }\n",
       "});\n"
      ],
      "text/plain": [
       "<IPython.core.display.Javascript object>"
      ]
     },
     "metadata": {},
     "output_type": "display_data"
    },
    {
     "data": {
      "application/javascript": [
       "/*\n",
       "jQuery plugin for a color arrow cursor over an element.\n",
       "\n",
       "Based on\n",
       "http://stackoverflow.com/questions/18779354/assign-color-to-mouse-cursor-using-css\n",
       "*/\n",
       "\n",
       "(function ($) {\n",
       "\n",
       "    $.fn.color_cursor = function(color) {\n",
       "        var that = this;\n",
       "        var cvs = document.createElement(\"canvas\");\n",
       "        cvs.height = 16;\n",
       "        cvs.width = 16;\n",
       "        var ctx = cvs.getContext(\"2d\");\n",
       "        ctx.strokeStyle = color;\n",
       "        ctx.lineWidth = 4;\n",
       "        ctx.lineCap = \"round\";\n",
       "        ctx.moveTo(2, 12);\n",
       "        ctx.lineTo(2, 2);\n",
       "        ctx.lineTo(12, 2);\n",
       "        ctx.moveTo(2, 2);\n",
       "        ctx.lineTo(30, 30)    \n",
       "        ctx.stroke();\n",
       "        var url = cvs.toDataURL();\n",
       "        that.css(\"cursor\", \"url(\" + url + '), auto');\n",
       "        return that;\n",
       "    };\n",
       "\n",
       "    $.fn.color_cursor_reset = function () {\n",
       "        this.css(\"cursor\", \"\");\n",
       "        return this;\n",
       "    };\n",
       "\n",
       "    $.fn.color_cursor.example = function (element) {\n",
       "        debugger;\n",
       "        var d = $(\"<div>Cursor should be red over me. Click to reset.</div>\")\n",
       "            .color_cursor(\"red\");\n",
       "        var reset = function() {\n",
       "            d.color_cursor_reset();\n",
       "            d.html(\"Now the cursor should be normal\");\n",
       "        }\n",
       "        d.click(reset);\n",
       "        element.append(d);\n",
       "        return element;\n",
       "    };\n",
       "\n",
       "})(jQuery)\n"
      ],
      "text/plain": [
       "<IPython.core.display.Javascript object>"
      ]
     },
     "metadata": {},
     "output_type": "display_data"
    }
   ],
   "source": [
    "# Construct the network widget from the graph\n",
    "from jp_gene_viz import dNetwork\n",
    "dNetwork.load_javascript_support()\n",
    "N = dNetwork.NetworkDisplay()\n",
    "N.load_data(G)"
   ]
  },
  {
   "cell_type": "code",
   "execution_count": 28,
   "metadata": {},
   "outputs": [],
   "source": [
    "import matplotlib.colors as colors\n",
    "class MidpointNormalize(colors.Normalize):\n",
    "    def __init__(self, vmin=None, vmax=None, vcenter=None, clip=False):\n",
    "        self.vcenter = vcenter\n",
    "        colors.Normalize.__init__(self, vmin, vmax, clip)\n",
    "\n",
    "    def __call__(self, value, clip=None):\n",
    "        # I'm ignoring masked values and all kinds of edge cases to make a\n",
    "        # simple example...\n",
    "        x, y = [self.vmin, self.vcenter, self.vmax], [0, 0.5, 1]\n",
    "        return np.ma.masked_array(np.interp(value, x, y))\n"
   ]
  },
  {
   "cell_type": "code",
   "execution_count": 29,
   "metadata": {},
   "outputs": [],
   "source": [
    "import matplotlib as mpl\n",
    "from matplotlib.colors import rgb2hex\n",
    "# TODO: make parameter\n",
    "# https://matplotlib.org/3.1.0/tutorials/colors/colormaps.html\n",
    "#cmap = plt.get_cmap('RdYlGn')\n",
    "cmap = plt.get_cmap('PiYG')\n",
    "edge_cmap = plt.get_cmap('Greys')\n",
    "microbe_norm = MidpointNormalize(vmin=-2., vcenter=0, vmax=1.5)\n",
    "#microbe_norm = mpl.colors.Normalize(vmin=0, vmax=1)\n",
    "kegg_norm = mpl.colors.Normalize(vmin=-2, vmax=2)\n"
   ]
  },
  {
   "cell_type": "code",
   "execution_count": null,
   "metadata": {},
   "outputs": [],
   "source": []
  },
  {
   "cell_type": "code",
   "execution_count": 30,
   "metadata": {},
   "outputs": [
    {
     "data": {
      "text/html": [
       "<div>\n",
       "<style scoped>\n",
       "    .dataframe tbody tr th:only-of-type {\n",
       "        vertical-align: middle;\n",
       "    }\n",
       "\n",
       "    .dataframe tbody tr th {\n",
       "        vertical-align: top;\n",
       "    }\n",
       "\n",
       "    .dataframe thead th {\n",
       "        text-align: right;\n",
       "    }\n",
       "</style>\n",
       "<table border=\"1\" class=\"dataframe\">\n",
       "  <thead>\n",
       "    <tr style=\"text-align: right;\">\n",
       "      <th></th>\n",
       "      <th>Unnamed: 0</th>\n",
       "      <th>src</th>\n",
       "      <th>rank</th>\n",
       "      <th>dest</th>\n",
       "      <th>src_abbv</th>\n",
       "    </tr>\n",
       "  </thead>\n",
       "  <tbody>\n",
       "    <tr>\n",
       "      <th>0</th>\n",
       "      <td>0</td>\n",
       "      <td>4017244</td>\n",
       "      <td>0.816639</td>\n",
       "      <td>CD284\\t_TLR4</td>\n",
       "      <td>g__Turneriella4017244</td>\n",
       "    </tr>\n",
       "    <tr>\n",
       "      <th>1</th>\n",
       "      <td>1</td>\n",
       "      <td>31235</td>\n",
       "      <td>0.147153</td>\n",
       "      <td>Bacterial_secretion_system</td>\n",
       "      <td>g__Leptotrichia31235</td>\n",
       "    </tr>\n",
       "    <tr>\n",
       "      <th>2</th>\n",
       "      <td>2</td>\n",
       "      <td>92263</td>\n",
       "      <td>0.151306</td>\n",
       "      <td>CD281\\t_TLR1</td>\n",
       "      <td>g__Selenomonas92263</td>\n",
       "    </tr>\n",
       "    <tr>\n",
       "      <th>3</th>\n",
       "      <td>3</td>\n",
       "      <td>361839</td>\n",
       "      <td>0.318015</td>\n",
       "      <td>Bacterial_secretion_system</td>\n",
       "      <td>g__361839</td>\n",
       "    </tr>\n",
       "    <tr>\n",
       "      <th>4</th>\n",
       "      <td>4</td>\n",
       "      <td>228207</td>\n",
       "      <td>0.105665</td>\n",
       "      <td>MAPK_signaling_pathway_-_plant</td>\n",
       "      <td>g__228207</td>\n",
       "    </tr>\n",
       "  </tbody>\n",
       "</table>\n",
       "</div>"
      ],
      "text/plain": [
       "   Unnamed: 0      src      rank                            dest  \\\n",
       "0           0  4017244  0.816639                    CD284\\t_TLR4   \n",
       "1           1    31235  0.147153      Bacterial_secretion_system   \n",
       "2           2    92263  0.151306                    CD281\\t_TLR1   \n",
       "3           3   361839  0.318015      Bacterial_secretion_system   \n",
       "4           4   228207  0.105665  MAPK_signaling_pathway_-_plant   \n",
       "\n",
       "                src_abbv  \n",
       "0  g__Turneriella4017244  \n",
       "1   g__Leptotrichia31235  \n",
       "2    g__Selenomonas92263  \n",
       "3              g__361839  \n",
       "4              g__228207  "
      ]
     },
     "execution_count": 30,
     "metadata": {},
     "output_type": "execute_result"
    }
   ],
   "source": [
    "edges.head()"
   ]
  },
  {
   "cell_type": "code",
   "execution_count": 31,
   "metadata": {},
   "outputs": [],
   "source": [
    "edge_lookup = edges.set_index(['src_abbv', 'dest'])"
   ]
  },
  {
   "cell_type": "code",
   "execution_count": 32,
   "metadata": {
    "scrolled": false
   },
   "outputs": [
    {
     "data": {
      "application/vnd.jupyter.widget-view+json": {
       "model_id": "ca1b268cfc444cb0877de7cc0c80c436",
       "version_major": 2,
       "version_minor": 0
      },
      "text/plain": [
       "SEJveChjaGlsZHJlbj0oVkJveChjaGlsZHJlbj0oRHJvcGRvd24obGF5b3V0PUxheW91dCh3aWR0aD11JzE1MHB4JyksIG9wdGlvbnM9KCdTVkcnLCAnY2FudmFzJyksIHZhbHVlPSdTVkcnKSzigKY=\n"
      ]
     },
     "metadata": {},
     "output_type": "display_data"
    }
   ],
   "source": [
    "# Configure and display the network\n",
    "\n",
    "# TODO: remove congested labels\n",
    "N.labels_button.value = True\n",
    "N.size_slider.value = 1000\n",
    "\n",
    "# TODO: add node size / font size are variable features\n",
    "# TODO: swap circles with squares\n",
    "# TODO: light grey dashed lines for low probability edges\n",
    "# TODO: add edge weight size\n",
    "# TODO: remove labels programmatically\n",
    "# TODO: allow for edges to be colored on a gradient (i.e. greys)\n",
    "\n",
    "# main goals\n",
    "# 1. focus on pathways of interest\n",
    "# 2. advance vs local\n",
    "# 3. weighted by relative abundance\n",
    "\n",
    "# colorize the nodes based on weights (hacky, sorry)\n",
    "dg = N.display_graph\n",
    "for node_name in dg.node_weights:\n",
    "    svg_name = dg.node_name(node_name)\n",
    "\n",
    "    if node_name in name2microbe:\n",
    "        d = name2microbe[node_name]\n",
    "        value = name2microbe[node_name][d_col]        \n",
    "        if np.isnan(value):\n",
    "            value = 0        \n",
    "        node_color = rgb2hex(cmap(microbe_norm(value))[:3])      \n",
    "        \n",
    "        value = norm_microbe_abundance.loc[d['#SampleID']]\n",
    "        #node_color = rgb2hex(cmap(microbe_norm(value))[:3])   \n",
    "        \n",
    "        N.override_node(node_name, color=node_color, radius=value*10, shape='circle')\n",
    "        N.override_label(node_name, hide=value < 0.3, font_size=value*18)\n",
    "        \n",
    "    else:\n",
    "        N.override_node(node_name, shape='rect', radius=5, color='#6193F7')\n",
    "        N.override_label(node_name, font_size=18)        \n",
    "\n",
    "for src, dest in dg.edge_weights:\n",
    "    m = np.log(edges['rank']).min()\n",
    "    p = edge_lookup.loc[(src, dest), 'rank']\n",
    "    width = np.log(p - m)/10\n",
    "    N.override_edge(src, dest, color=rgb2hex(edge_cmap(p+0.1)), stroke_width=width)\n",
    "\n",
    "# show labels\n",
    "N.labels_button.value = True\n",
    "\n",
    "# rerun the layout\n",
    "N.layout_click()\n",
    "    \n",
    "# draw the network with the new colors and sizes\n",
    "N.draw()\n",
    "\n",
    "# show the network\n",
    "N.show()"
   ]
  },
  {
   "cell_type": "code",
   "execution_count": 33,
   "metadata": {},
   "outputs": [
    {
     "data": {
      "text/plain": [
       "<matplotlib.axes._subplots.AxesSubplot at 0x11e4549d0>"
      ]
     },
     "execution_count": 33,
     "metadata": {},
     "output_type": "execute_result"
    },
    {
     "data": {
      "image/png": "[encoded data removed]",
      "text/plain": [
       "<Figure size 432x288 with 1 Axes>"
      ]
     },
     "metadata": {
      "needs_background": "light"
     },
     "output_type": "display_data"
    }
   ],
   "source": [
    "sns.distplot(edges['rank'])"
   ]
  },
  {
   "cell_type": "code",
   "execution_count": 34,
   "metadata": {},
   "outputs": [
    {
     "data": {
      "text/plain": [
       "(0.7534025374855826, 0.8961937716262977, 0.5767012687427916, 1.0)"
      ]
     },
     "execution_count": 34,
     "metadata": {},
     "output_type": "execute_result"
    }
   ],
   "source": [
    "cmap(microbe_norm(value))"
   ]
  },
  {
   "cell_type": "code",
   "execution_count": 35,
   "metadata": {},
   "outputs": [
    {
     "data": {
      "text/plain": [
       "(0.5568627450980392, 0.00392156862745098, 0.3215686274509804, 1.0)"
      ]
     },
     "execution_count": 35,
     "metadata": {},
     "output_type": "execute_result"
    }
   ],
   "source": [
    "cmap(microbe_norm(-2))"
   ]
  },
  {
   "cell_type": "code",
   "execution_count": null,
   "metadata": {},
   "outputs": [],
   "source": []
  }
 ],
 "metadata": {
  "kernelspec": {
   "display_name": "Python 2",
   "language": "python",
   "name": "python2"
  },
  "language_info": {
   "codemirror_mode": {
    "name": "ipython",
    "version": 2
   },
   "file_extension": ".py",
   "mimetype": "text/x-python",
   "name": "python",
   "nbconvert_exporter": "python",
   "pygments_lexer": "ipython2",
   "version": "2.7.15"
  }
 },
 "nbformat": 4,
 "nbformat_minor": 2
}
