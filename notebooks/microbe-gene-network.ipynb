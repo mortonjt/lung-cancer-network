{
 "cells": [
  {
   "cell_type": "markdown",
   "metadata": {},
   "source": [
    "# Network visualization\n",
    "\n",
    "This notebook constructs a network visualization connecting bacterial species to KEGG pathways."
   ]
  },
  {
   "cell_type": "code",
   "execution_count": 1,
   "metadata": {},
   "outputs": [],
   "source": [
    "# Parameters\n",
    "d_col = 'C(Advanced_Stage_label)[T.Local]'  # node color\n",
    "ew = \"rank\"                           # edge weight\n",
    "taxa_level = 'Rank6'                  # taxonomy level"
   ]
  },
  {
   "cell_type": "code",
   "execution_count": 2,
   "metadata": {},
   "outputs": [
    {
     "data": {
      "text/html": [
       "<style>.container { width:100% !important; }</style>"
      ],
      "text/plain": [
       "<IPython.core.display.HTML object>"
      ]
     },
     "metadata": {},
     "output_type": "display_data"
    }
   ],
   "source": [
    "# Preliminaries\n",
    "%matplotlib inline\n",
    "\n",
    "import numpy as np\n",
    "import matplotlib.mlab as mlab\n",
    "import matplotlib.pyplot as plt\n",
    "import seaborn as sns\n",
    "from IPython.display import display, HTML\n",
    "\n",
    "def widen_notebook():\n",
    "    display(HTML(\"<style>.container { width:100% !important; }</style>\"))\n",
    "widen_notebook()"
   ]
  },
  {
   "cell_type": "code",
   "execution_count": 3,
   "metadata": {},
   "outputs": [
    {
     "name": "stdout",
     "output_type": "stream",
     "text": [
      "\u001b[31mKO.biom\u001b[m\u001b[m\r\n",
      "\u001b[31mLC_KO_metadata.txt\u001b[m\u001b[m\r\n",
      "Microbiome_with_paired_RNA_otu_table.a1.biom.txt\r\n",
      "edges.py\r\n",
      "edges.py~\r\n",
      "edges_k5.txt\r\n",
      "\u001b[31mmicrobe-metadata.txt\u001b[m\u001b[m\r\n",
      "\u001b[31mmicrobes.biom\u001b[m\u001b[m\r\n",
      "microbes.txt\r\n",
      "\u001b[31mranks.csv\u001b[m\u001b[m\r\n"
     ]
    }
   ],
   "source": [
    "# data files\n",
    "!ls ../data/edges/lung-cancer"
   ]
  },
  {
   "cell_type": "code",
   "execution_count": 4,
   "metadata": {},
   "outputs": [],
   "source": [
    "edges_txt = \"../data/edges/lung-cancer/edges_k5.txt\"\n",
    "kegg_txt = \"../data/edges/lung-cancer/LC_KO_metadata.txt\"\n",
    "microbes_txt = \"../data/edges/lung-cancer/microbe-metadata.txt\"\n",
    "full_microbes_biom = \"../data/edges/lung-cancer/Microbiome_with_paired_RNA_otu_table.a1.biom.txt\"\n",
    "filtered_microbes_biom = \"../data/edges/lung-cancer/microbes.txt\""
   ]
  },
  {
   "cell_type": "code",
   "execution_count": 5,
   "metadata": {},
   "outputs": [
    {
     "data": {
      "text/plain": [
       "(1750, 1554, 350)"
      ]
     },
     "execution_count": 5,
     "metadata": {},
     "output_type": "execute_result"
    }
   ],
   "source": [
    "# Read data files into lists of dictionaries\n",
    "def split_commas(line):\n",
    "    return line.strip().split(\"\\t\")\n",
    "\n",
    "def CSVtodicts(filename):\n",
    "    f = open(filename)\n",
    "    result = []\n",
    "    headers = split_commas(f.readline())\n",
    "    for line in f.readlines():\n",
    "        values = split_commas(line)\n",
    "        dictionary = dict(zip(headers, values))\n",
    "        result.append(dictionary)\n",
    "    return result\n",
    "\n",
    "edges = CSVtodicts(edges_txt)\n",
    "keggs = CSVtodicts(kegg_txt)\n",
    "microbes = CSVtodicts(microbes_txt)\n",
    "\n",
    "len(edges), len(keggs), len(microbes)"
   ]
  },
  {
   "cell_type": "code",
   "execution_count": 6,
   "metadata": {},
   "outputs": [
    {
     "name": "stderr",
     "output_type": "stream",
     "text": [
      "/Users/jmorton/miniconda3/envs/jpnetviz/lib/python2.7/site-packages/ipykernel_launcher.py:2: FutureWarning: read_table is deprecated, use read_csv instead, passing sep='\\t'.\n",
      "  \n",
      "/Users/jmorton/miniconda3/envs/jpnetviz/lib/python2.7/site-packages/ipykernel_launcher.py:3: FutureWarning: read_table is deprecated, use read_csv instead, passing sep='\\t'.\n",
      "  This is separate from the ipykernel package so we can avoid doing imports until\n",
      "/Users/jmorton/miniconda3/envs/jpnetviz/lib/python2.7/site-packages/ipykernel_launcher.py:4: FutureWarning: read_table is deprecated, use read_csv instead, passing sep='\\t'.\n",
      "  after removing the cwd from sys.path.\n",
      "/Users/jmorton/miniconda3/envs/jpnetviz/lib/python2.7/site-packages/ipykernel_launcher.py:5: FutureWarning: read_table is deprecated, use read_csv instead, passing sep='\\t'.\n",
      "  \"\"\"\n",
      "/Users/jmorton/miniconda3/envs/jpnetviz/lib/python2.7/site-packages/ipykernel_launcher.py:6: FutureWarning: read_table is deprecated, use read_csv instead, passing sep='\\t'.\n",
      "  \n"
     ]
    }
   ],
   "source": [
    "import pandas as pd\n",
    "microbes = pd.read_table(microbes_txt)\n",
    "keggs = pd.read_table(kegg_txt)\n",
    "edges = pd.read_table(edges_txt)\n",
    "full_microbe_counts = pd.read_table(full_microbes_biom, skiprows=1, index_col=0)\n",
    "filtered_microbe_counts = pd.read_table(filtered_microbes_biom, skiprows=1, index_col=0)\n",
    "\n",
    "# scrub dataframe\n",
    "featureid = '#SampleID'"
   ]
  },
  {
   "cell_type": "code",
   "execution_count": 7,
   "metadata": {},
   "outputs": [],
   "source": [
    "taxa = full_microbe_counts.iloc[:, -1]\n",
    "microbe_counts = full_microbe_counts.iloc[:, :-1]"
   ]
  },
  {
   "cell_type": "code",
   "execution_count": 8,
   "metadata": {},
   "outputs": [
    {
     "data": {
      "text/plain": [
       "((11353, 85), (350, 71))"
      ]
     },
     "execution_count": 8,
     "metadata": {},
     "output_type": "execute_result"
    }
   ],
   "source": [
    "microbe_counts.shape, filtered_microbe_counts.shape"
   ]
  },
  {
   "cell_type": "code",
   "execution_count": 9,
   "metadata": {},
   "outputs": [],
   "source": [
    "microbe_counts = microbe_counts.loc[:, filtered_microbe_counts.columns]"
   ]
  },
  {
   "cell_type": "code",
   "execution_count": 10,
   "metadata": {},
   "outputs": [
    {
     "data": {
      "text/plain": [
       "<matplotlib.axes._subplots.AxesSubplot at 0x7fb1483ef6d0>"
      ]
     },
     "execution_count": 10,
     "metadata": {},
     "output_type": "execute_result"
    },
    {
     "data": {
      "image/png": "[encoded data removed]",
      "text/plain": [
       "<Figure size 432x288 with 1 Axes>"
      ]
     },
     "metadata": {
      "needs_background": "light"
     },
     "output_type": "display_data"
    }
   ],
   "source": [
    "sns.distplot(microbe_counts.sum(axis=0))"
   ]
  },
  {
   "cell_type": "code",
   "execution_count": 11,
   "metadata": {},
   "outputs": [],
   "source": [
    "microbe_props = microbe_counts.apply(lambda x: x / x.sum(), axis=0)"
   ]
  },
  {
   "cell_type": "code",
   "execution_count": 12,
   "metadata": {},
   "outputs": [],
   "source": [
    "microbe_props = microbe_props.loc[microbes['#SampleID']].T"
   ]
  },
  {
   "cell_type": "code",
   "execution_count": 13,
   "metadata": {},
   "outputs": [],
   "source": [
    "mean_microbe_abundance = np.log(microbe_props.mean(axis=0))"
   ]
  },
  {
   "cell_type": "code",
   "execution_count": 14,
   "metadata": {},
   "outputs": [],
   "source": [
    "norm_microbe_abundance = (mean_microbe_abundance -  mean_microbe_abundance.min()) / (mean_microbe_abundance.max() - mean_microbe_abundance.min())"
   ]
  },
  {
   "cell_type": "code",
   "execution_count": 15,
   "metadata": {
    "scrolled": true
   },
   "outputs": [
    {
     "data": {
      "text/plain": [
       "<matplotlib.axes._subplots.AxesSubplot at 0x7fb14845b5d0>"
      ]
     },
     "execution_count": 15,
     "metadata": {},
     "output_type": "execute_result"
    },
    {
     "data": {
      "image/png": "[encoded data removed]",
      "text/plain": [
       "<Figure size 432x288 with 1 Axes>"
      ]
     },
     "metadata": {
      "needs_background": "light"
     },
     "output_type": "display_data"
    }
   ],
   "source": [
    "fontmin = 8\n",
    "fontmax = 30\n",
    "\n",
    "fontsize = norm_microbe_abundance * (fontmax - fontmin) + fontmin\n",
    "\n",
    "sns.distplot(norm_microbe_abundance)"
   ]
  },
  {
   "cell_type": "code",
   "execution_count": 16,
   "metadata": {},
   "outputs": [],
   "source": [
    "# scrub edges, because of R ...\n",
    "edges['src'] = edges.src.apply(lambda x: int(x.replace('\\\"', '')))\n",
    "edges['dest'] = edges.dest.apply(lambda x: x.replace('\\\"', ''))"
   ]
  },
  {
   "cell_type": "code",
   "execution_count": 17,
   "metadata": {},
   "outputs": [],
   "source": [
    "select_microbes = list(set(edges.src.values))\n",
    "select_kegg = list(set(edges.dest.values))"
   ]
  },
  {
   "cell_type": "code",
   "execution_count": 18,
   "metadata": {},
   "outputs": [
    {
     "data": {
      "text/plain": [
       "Text(0.5,1,'C(Advanced_Stage_label)[T.Local]')"
      ]
     },
     "execution_count": 18,
     "metadata": {},
     "output_type": "execute_result"
    },
    {
     "data": {
      "image/png": "[encoded data removed]",
      "text/plain": [
       "<Figure size 432x288 with 1 Axes>"
      ]
     },
     "metadata": {
      "needs_background": "light"
     },
     "output_type": "display_data"
    }
   ],
   "source": [
    "vals = microbes.set_index(featureid).loc[select_microbes, d_col]\n",
    "sns.distplot(vals.dropna().values)\n",
    "plt.title(d_col)"
   ]
  },
  {
   "cell_type": "code",
   "execution_count": 19,
   "metadata": {},
   "outputs": [
    {
     "data": {
      "text/plain": [
       "<matplotlib.axes._subplots.AxesSubplot at 0x7fb14842a150>"
      ]
     },
     "execution_count": 19,
     "metadata": {},
     "output_type": "execute_result"
    },
    {
     "data": {
      "image/png": "[encoded data removed]",
      "text/plain": [
       "<Figure size 432x288 with 1 Axes>"
      ]
     },
     "metadata": {
      "needs_background": "light"
     },
     "output_type": "display_data"
    }
   ],
   "source": [
    "sns.distplot(edges['rank'])"
   ]
  },
  {
   "cell_type": "code",
   "execution_count": 20,
   "metadata": {},
   "outputs": [
    {
     "data": {
      "text/plain": [
       "<matplotlib.axes._subplots.AxesSubplot at 0x7fb188bad190>"
      ]
     },
     "execution_count": 20,
     "metadata": {},
     "output_type": "execute_result"
    },
    {
     "data": {
      "image/png": "[encoded data removed]",
      "text/plain": [
       "<Figure size 432x288 with 1 Axes>"
      ]
     },
     "metadata": {
      "needs_background": "light"
     },
     "output_type": "display_data"
    }
   ],
   "source": [
    "sns.distplot(edges[ew])"
   ]
  },
  {
   "cell_type": "code",
   "execution_count": 21,
   "metadata": {},
   "outputs": [
    {
     "data": {
      "text/plain": [
       "'o__Viruses_noname'"
      ]
     },
     "execution_count": 21,
     "metadata": {},
     "output_type": "execute_result"
    }
   ],
   "source": [
    "def abbreviate(x):\n",
    "    return x.split('|')[-1]\n",
    "abbreviate('k__Viruses|p__Viruses_noname|c__Viruses_noname|o__Viruses_noname')"
   ]
  },
  {
   "cell_type": "code",
   "execution_count": 22,
   "metadata": {},
   "outputs": [],
   "source": [
    "microbe_dicts = microbes.T.to_dict().values()\n",
    "kegg_dicts = keggs.T.to_dict().values()\n",
    "edge_dicts = edges.T.to_dict().values()"
   ]
  },
  {
   "cell_type": "code",
   "execution_count": 23,
   "metadata": {},
   "outputs": [],
   "source": [
    "microbe_metadata = microbes.set_index('#SampleID')"
   ]
  },
  {
   "cell_type": "code",
   "execution_count": 24,
   "metadata": {},
   "outputs": [
    {
     "data": {
      "text/plain": [
       "('g__1081815',\n",
       " {'#SampleID': 1081815,\n",
       "  'C(Advanced_Stage_label)[T.Local]': 0.280803757,\n",
       "  'C(Advanced_Stage_label)[T.n.a]': -0.39687682,\n",
       "  'C(Smoking_status)[T.Current]': 0.122924215,\n",
       "  'C(Smoking_status)[T.Former]': -0.556633833,\n",
       "  'C(Smoking_status)[T.Never]': 1.897413645,\n",
       "  'C(Smoking_status)[T.current]': -0.971688392,\n",
       "  'Intercept': 0.135780182,\n",
       "  'Rank1': 'k__Bacteria',\n",
       "  'Rank2': 'p__Actinobacteria',\n",
       "  'Rank3': 'c__Actinobacteria',\n",
       "  'Rank4': 'o__Actinomycetales',\n",
       "  'Rank5': 'f__Micrococcaceae',\n",
       "  'Rank6': 'g__',\n",
       "  'Rank7': 's__'})"
      ]
     },
     "execution_count": 24,
     "metadata": {},
     "output_type": "execute_result"
    }
   ],
   "source": [
    "# name abbreviation mappings.\n",
    "def abbreviate(d):\n",
    "    return '%s%d' % (d[taxa_level], d[featureid])\n",
    "\n",
    "def microbe_name_dict(dicts):\n",
    "    return dict([abbreviate(d), d] for d in dicts)\n",
    "\n",
    "name2microbe = microbe_name_dict(microbe_dicts)\n",
    "name2microbe.items()[15]"
   ]
  },
  {
   "cell_type": "code",
   "execution_count": 25,
   "metadata": {},
   "outputs": [],
   "source": [
    "def kegg_name_dict(dicts):\n",
    "    return dict([d['#OTUID'], d] for d in dicts)"
   ]
  },
  {
   "cell_type": "code",
   "execution_count": 26,
   "metadata": {},
   "outputs": [
    {
     "data": {
      "text/plain": [
       "('Competence-related_DNA_transformation_transporter_(DNA-T)_core_components',\n",
       " {'#OTUID': 'Competence-related_DNA_transformation_transporter_(DNA-T)_core_components',\n",
       "  'Interest': 'N'})"
      ]
     },
     "execution_count": 26,
     "metadata": {},
     "output_type": "execute_result"
    }
   ],
   "source": [
    "name2kegg = kegg_name_dict(kegg_dicts)\n",
    "name2kegg.items()[32]"
   ]
  },
  {
   "cell_type": "code",
   "execution_count": 27,
   "metadata": {},
   "outputs": [],
   "source": [
    "# Construct the network graph from the edges.\n",
    "from jp_gene_viz import dGraph\n",
    "G = dGraph.WGraph()\n",
    "for e in edge_dicts:\n",
    "    name = '%s%d' % (microbe_metadata.loc[e[\"src\"], taxa_level], e[\"src\"])\n",
    "    G.add_edge(name, e[\"dest\"], e[ew], e)"
   ]
  },
  {
   "cell_type": "code",
   "execution_count": 28,
   "metadata": {},
   "outputs": [
    {
     "data": {
      "application/javascript": [
       "\n",
       "// This is the javascript side to match js_proxy.py.\n",
       "// See js_proxy.py for an explanation of the command transfer\n",
       "// protocol\n",
       "\n",
       "// imitating ipywidgets/docs/source/examples/Custom Widget - Hello World.ipynb\n",
       "\n",
       "//require([\"widgets/js/widget\", \"widgets/js/manager\", \"underscore\", \"jquery\"\n",
       "//], function(widget, manager, _, $) {\n",
       "\n",
       "require.undef(\"JSProxy\");\n",
       "\n",
       "define(\"JSProxy\", ['@jupyter-widgets/base'], function(widgets) {\n",
       "\n",
       "    var JSProxyView = widgets.DOMWidgetView.extend({\n",
       "\n",
       "        render: function() {\n",
       "            var that = this;\n",
       "            that.on(\"displayed\", function() {\n",
       "                that.update();\n",
       "            });\n",
       "            // Wrap $el as a proper jQuery object\n",
       "            that.$$el = $(that.$el);\n",
       "            // \"new\" keyword emulation\n",
       "            // http://stackoverflow.com/questions/17342497/dynamically-control-arguments-while-creating-objects-in-javascript\n",
       "            that.$$el.New = function(klass, args) {\n",
       "                var obj = Object.create(klass.prototype);\n",
       "                return klass.apply(obj, args) || obj;\n",
       "            };\n",
       "\n",
       "            // fix key bindings for wayward element.\n",
       "            // XXXX This is a bit of a hack that may not be needed in future\n",
       "            // Jupyter releases.\n",
       "            that.$$el.Fix = function(element) {\n",
       "                debugger;\n",
       "                that.model.widget_manager.keyboard_manager.register_events(element);\n",
       "            };\n",
       "        },\n",
       "\n",
       "        update: function(options) {\n",
       "            var that = this;\n",
       "            var commands = that.model.get(\"commands\");\n",
       "            if (commands.length >= 2) {\n",
       "                var command_counter = commands[0];\n",
       "                var command_list = commands[1];\n",
       "                var level = commands[2];\n",
       "                level = that.check_level(level);\n",
       "                var results = [];\n",
       "                try {\n",
       "                    _.each(command_list, function(command,i) {\n",
       "                        var result = that.execute_command(command);\n",
       "                        results[i] = that.json_safe(result, level);\n",
       "                    });\n",
       "                } catch (err) {\n",
       "                    results.push(\"\" + err);\n",
       "                }\n",
       "                that.model.set(\"commands\", []);\n",
       "                that.model.set(\"results\", [command_counter, results])\n",
       "                that.touch();\n",
       "            }\n",
       "        },\n",
       "\n",
       "        execute_command: function(command) {\n",
       "            var that = this;\n",
       "            var result = command;\n",
       "            if ($.isArray(command)) {\n",
       "                var indicator = command[0];\n",
       "                var remainder = command.slice();\n",
       "                remainder.shift();\n",
       "                if (indicator == \"element\") {\n",
       "                    // Make sure the element is wrapped as a proper JQuery(UI) object\n",
       "                    if (!that.$$el) {\n",
       "                        that.$$el = $(that.$el);\n",
       "                    }\n",
       "                    result = that.$$el;\n",
       "                } else if (indicator == \"window\") {\n",
       "                    result = window;\n",
       "                } else if (indicator == \"method\") {\n",
       "                    var target_desc = remainder.shift();\n",
       "                    var target = that.execute_command(target_desc);\n",
       "                    var name = remainder.shift();\n",
       "                    var args = remainder.map(that.execute_command, that);\n",
       "                    var method = target[name];\n",
       "                    if (method) {\n",
       "                        result = method.apply(target, args);\n",
       "                    } else {\n",
       "                        result = \"In \" + target + \" no such method \" + name;\n",
       "                    }\n",
       "                } else if (indicator == \"function\") {\n",
       "                    var function_desc = remainder.shift();\n",
       "                    var function_value = that.execute_command(function_desc);\n",
       "                    var args = remainder.map(that.execute_command, that);\n",
       "                    // Use \"that\" as the \"this\" value for function values?\n",
       "                    result = function_value.apply(that, args);\n",
       "                } else if (indicator == \"id\") {\n",
       "                    result = remainder[0];\n",
       "                } else if (indicator == \"list\") {\n",
       "                    result = remainder.map(that.execute_command, that);\n",
       "                } else if (indicator == \"dict\") {\n",
       "                    result = {}\n",
       "                    var desc = remainder[0];\n",
       "                    for (var key in desc) {\n",
       "                        var key_desc = desc[key];\n",
       "                        var val = that.execute_command(key_desc);\n",
       "                        result[key] = val;\n",
       "                    }\n",
       "                } else if (indicator == \"callback\") {\n",
       "                    var identifier = remainder.shift();\n",
       "                    var data = remainder.shift();\n",
       "                    var level = remainder.shift();\n",
       "                    // sanity check\n",
       "                    level = that.check_level(level);\n",
       "                    result = that.callback_factory(identifier, data, level);\n",
       "                } else if (indicator == \"get\") {\n",
       "                    var target_desc = remainder.shift();\n",
       "                    var target = that.execute_command(target_desc);\n",
       "                    var name = remainder.shift();\n",
       "                    try {\n",
       "                        result = target[name];\n",
       "                    } catch(err) {\n",
       "                        result = \"failed to get \"+name+\" from \"+target+\" :: \"+err;\n",
       "                    }\n",
       "                } else if (indicator == \"set\") {\n",
       "                    var target_desc = remainder.shift();\n",
       "                    var target = that.execute_command(target_desc);\n",
       "                    var name = remainder.shift();\n",
       "                    var value_desc = remainder.shift()\n",
       "                    var value = that.execute_command(value_desc);\n",
       "                    target[name] = value;\n",
       "                    result = target;\n",
       "                } else if (indicator == \"null\") {\n",
       "                    target_desc = remainder.shift();\n",
       "                    that.execute_command(target_desc);\n",
       "                    result = null;\n",
       "                } else {\n",
       "                    result = \"Unknown indicator \" + indicator;\n",
       "                }\n",
       "            }\n",
       "            return result;\n",
       "        },\n",
       "\n",
       "        check_level: function(level) {\n",
       "            if ((typeof level) != \"number\" || (level < 0)) {\n",
       "                level = 0;\n",
       "            } else if (level > 5) {\n",
       "                level = 5;\n",
       "            }\n",
       "            return level;\n",
       "        },\n",
       "\n",
       "        callback_factory: function(identifier, data, level) {\n",
       "            var that = this;\n",
       "            // Counter makes sure change is noticed even if other arguments don't change.\n",
       "            var counter = 0;\n",
       "            var handler = function () {\n",
       "                counter += 1;\n",
       "                var payload = that.json_safe([identifier, data, arguments, counter], level + 1);\n",
       "                that.model.set(\"callback_results\", payload);\n",
       "                that.touch();\n",
       "            };\n",
       "            return handler;\n",
       "        },\n",
       "\n",
       "        json_safe: function(val, depth) {\n",
       "            // maybe expand later as need arises\n",
       "            var that = this;\n",
       "            var ty = (typeof val);\n",
       "            if ((ty == \"number\") || (ty == \"string\") || (ty == \"boolean\")) {\n",
       "                return val;\n",
       "            }\n",
       "            if (!val) {\n",
       "                // translate all other falsies to None\n",
       "                return null;\n",
       "            }\n",
       "            if (((typeof depth) == \"number\") && (depth > 0)) {\n",
       "                if ($.isArray(val)) {\n",
       "                    var result = [];\n",
       "                    _.each(val, function(elt, i) {\n",
       "                        var r = that.json_safe(elt, depth-1);\n",
       "                        if (r != null) {\n",
       "                            result[i] = r;\n",
       "                        }\n",
       "                    });\n",
       "                    return result;\n",
       "                } else {\n",
       "                    var result = {};\n",
       "                    for (var key in val) {\n",
       "                        var jv = that.json_safe(val[key], depth-1);\n",
       "                        if (jv != null) {\n",
       "                            result[key] = jv;\n",
       "                        }\n",
       "                    }\n",
       "                    return result;\n",
       "                }\n",
       "            }\n",
       "            return null;\n",
       "        }\n",
       "\n",
       "    });\n",
       "\n",
       "    //manager.WidgetManager.register_widget_view('JSProxyView', JSProxyView);\n",
       "    return {\n",
       "        JSProxyView: JSProxyView\n",
       "    }\n",
       "});\n"
      ],
      "text/plain": [
       "<IPython.core.display.Javascript object>"
      ]
     },
     "metadata": {},
     "output_type": "display_data"
    },
    {
     "data": {
      "application/javascript": [
       "debugger;\n",
       "// imitating ipywidgets/docs/source/examples/Custom Widget - Hello World.ipynb\n",
       "\n",
       "//require([\"widgets/js/widget\", \"widgets/js/manager\"], function(widget, manager){\n",
       "\n",
       "require.undef(\"SVGCanvas\");\n",
       "\n",
       "define(\"SVGCanvas\", ['@jupyter-widgets/base'], function(widgets) {\n",
       "    debugger;\n",
       "    var svgEventHandlerFactory = function(that) {\n",
       "        // each animation frame only send one event of each type\n",
       "        var messages = [];\n",
       "        var bufferMessage = function(message) {\n",
       "            var typ = message.payload.type;\n",
       "            var old_messages = messages;\n",
       "            var new_messages = [];\n",
       "            for (var i=0; i<old_messages.length; i++) {\n",
       "                var old_message = old_messages[i];\n",
       "                if (old_message.payload.type != typ) {\n",
       "                    new_messages.push(old_message)\n",
       "                }\n",
       "            }\n",
       "            new_messages.push(message);\n",
       "            messages = new_messages;\n",
       "            if (old_messages.length == 0) {\n",
       "                //requestAnimationFrame(sendMessagesAtFrame);\n",
       "                setTimeout(sendMessagesAtFrame, 100);\n",
       "            }\n",
       "        };\n",
       "        var sendMessagesAtFrame = function () {\n",
       "            var msgs = messages;\n",
       "            messages = [];\n",
       "            for (var i=0; i<msgs.length; i++) {\n",
       "                var message = msgs[i];\n",
       "                that.model.send(message);\n",
       "            }\n",
       "        };\n",
       "        var svgEventHandler = function(e) {\n",
       "            // ignore events while there are pending commands.\n",
       "            //if (that.model.get(\"command_pending\")) {\n",
       "            //    return;\n",
       "            //}\n",
       "            var target = e.target;\n",
       "            var info = {};\n",
       "            for (var attr in e) {\n",
       "                var val = e[attr];\n",
       "                var ty = (typeof val);\n",
       "                if ((ty == \"number\") ||\n",
       "                    (ty == \"string\") ||\n",
       "                    (ty == \"boolean\")) {\n",
       "                    info[attr] = val;\n",
       "                }\n",
       "            }\n",
       "            info.name = target.ipy_name;\n",
       "            var ept = SVGEventLocation(that, e);\n",
       "            info.svgX = ept.x;\n",
       "            info.svgY = ept.y;\n",
       "            var message = {\n",
       "                \"indicator\": \"event\",\n",
       "                \"payload\": info\n",
       "            };\n",
       "            bufferMessage(message);\n",
       "            //that.model.send(message);\n",
       "            //var json = JSON.stringify(info);\n",
       "            //that.model.set(\"event\", json);\n",
       "            //that.touch();\n",
       "        };\n",
       "        return svgEventHandler;\n",
       "    };\n",
       "\n",
       "    var SVGEventLocation = function(that, e) {\n",
       "        // http://stackoverflow.com/questions/10298658/mouse-position-inside-autoscaled-svg\n",
       "        var pt = that.reference_point;\n",
       "        var svg = that.$svg[0];\n",
       "        pt.x = e.clientX;\n",
       "        pt.y = e.clientY;\n",
       "        return pt.matrixTransform(svg.getScreenCTM().inverse());\n",
       "    }\n",
       "    \n",
       "    var SVGCanvasView = widgets.DOMWidgetView.extend({\n",
       "        \n",
       "        render: function() {\n",
       "            debugger;\n",
       "            var that = this;\n",
       "            var svg = that.svg_elt(\"svg\");\n",
       "            var eventHandler = svgEventHandlerFactory(that);\n",
       "            that.eventHandler = eventHandler;\n",
       "            that.named_elements = {};\n",
       "            svg.ipy_name = \"\";\n",
       "            that.$svg = $(svg);\n",
       "            that.reference_point = svg.createSVGPoint();\n",
       "            svg.setAttribute(\"preserveAspectRatio\", \"none\");\n",
       "            that.$el.append(that.$svg);\n",
       "            that.svg_parameters_changed();\n",
       "            //that.commands_changed();\n",
       "            that.start_watch_event();\n",
       "            //that.model.on(\"change:commands\", that.commands_changed, that);\n",
       "            that.model.on(\"msg:custom\", function(content, buffers, widget) {\n",
       "                that.handle_custom_message(content, buffers, widget);\n",
       "            });\n",
       "            that.model.on(\"change:viewBox\", that.svg_parameters_changed, that);\n",
       "            that.model.on(\"change:svg_width\", that.svg_parameters_changed, that);\n",
       "            that.model.on(\"change:svg_height\", that.svg_parameters_changed, that);\n",
       "            that.model.on(\"change:svg_style\", that.svg_parameters_changed, that);\n",
       "            that.model.on(\"change:watch_event\", that.start_watch_event, that);\n",
       "            that.model.on(\"change:unwatch_event\", that.stop_watch_event, that);\n",
       "            that.model.set(\"rendered\", true);\n",
       "            that.touch();\n",
       "        },\n",
       "        \n",
       "        start_watch_event: function() {\n",
       "            var that = this;\n",
       "            var event_types = that.model.get(\"watch_event\");\n",
       "            if (event_types != \"\") {\n",
       "                that.$svg.on(event_types, that.eventHandler);\n",
       "                that.model.set(\"watch_event\", \"\");\n",
       "                that.touch();\n",
       "            }\n",
       "        },\n",
       "        \n",
       "        stop_watch_event: function() {\n",
       "            var that = this;\n",
       "            var event_types = that.model.get(\"unwatch_event\");\n",
       "            if (event_types != \"\") {\n",
       "                that.$svg.off(event_types);\n",
       "                that.model.set(\"watch_event\", \"\");\n",
       "                that.touch();\n",
       "            }\n",
       "        },\n",
       "        \n",
       "        handle_custom_message: function(commands_pair, buffers, widget) {\n",
       "            var that = this;\n",
       "            try {\n",
       "                var svg = that.$svg[0];\n",
       "                //var commands_pair = that.get_JSON(\"commands\")\n",
       "                // ignore the counter\n",
       "                var commands = [];\n",
       "                if (commands_pair.length > 0) {\n",
       "                    commands = commands_pair[1];\n",
       "                }\n",
       "                for (var i=0; i<commands.length; i++) {\n",
       "                    var command_dict = commands[i];\n",
       "                    var indicator = command_dict[\"command\"];\n",
       "                    var method = that[\"do_\"+indicator];\n",
       "                    method(that, command_dict);\n",
       "                }\n",
       "            }\n",
       "            finally {\n",
       "                that.model.set(\"command_pending\", false);\n",
       "                that.touch();\n",
       "            }\n",
       "        },\n",
       "\n",
       "        do_fit: function(that, info) {\n",
       "            // fit viewport to bounding box.\n",
       "            var svg = that.$svg[0];\n",
       "            var bbox = svg.getBBox();\n",
       "            var D = {\"width\": bbox.width, \"height\": bbox.height, \"x\": bbox.x, \"y\": bbox.y}\n",
       "            var vbox = \"\" + D.x + \" \" + D.y + \" \" + D.width + \" \" + D.height;\n",
       "            if ((D.width > 0) && (D.height > 0)) {\n",
       "                that.model.set(\"boundingBox\", D);\n",
       "                if (info.changeView) {\n",
       "                    that.model.set(\"viewBox\", vbox);\n",
       "                }\n",
       "                // Element viewBox will be updated later by model change.\n",
       "                that.touch();\n",
       "            }\n",
       "        },\n",
       "        \n",
       "        do_add_element: function (that, info) {\n",
       "            var tag = info.tag;\n",
       "            var name = info.name;\n",
       "            var element = that.svg_elt(tag);\n",
       "            element.ipy_name = name;\n",
       "            var $element = $(element);\n",
       "            that.update_element($element, info);\n",
       "            // add event callbacks\n",
       "            that.$svg.append($element);\n",
       "            that.named_elements[name] = $element;\n",
       "        },\n",
       "        \n",
       "        do_change_element: function (that, info) {\n",
       "            var name = info.name;\n",
       "            var $element = that.named_elements[name];\n",
       "            if ($element) {\n",
       "                that.update_element($element, info);\n",
       "            } else {\n",
       "                console.warn(\"couldn't find element for \"+name);\n",
       "            }\n",
       "        },\n",
       "        \n",
       "        do_delete: function (that, info) {\n",
       "            var names = info.names;\n",
       "            for (var i=0; i<names.length; i++) {\n",
       "                var name = names[i];\n",
       "                var $element = that.named_elements[name];\n",
       "                if ($element) {\n",
       "                    $element.remove();\n",
       "                    delete that.named_elements[name];\n",
       "                }\n",
       "            }\n",
       "        },\n",
       "        \n",
       "        update_element: function($element, info) {\n",
       "            var element = $element[0];\n",
       "            var atts = info.atts;\n",
       "            var style = info.style;\n",
       "            var text = info.text;\n",
       "            if (atts) {\n",
       "                for (var att in atts) {\n",
       "                    element.setAttribute(att, atts[att]);\n",
       "                }\n",
       "            }\n",
       "            if (style) {\n",
       "                for (var styling in style) {\n",
       "                    element.style[styling] = style[styling];\n",
       "                }\n",
       "            }\n",
       "            if (text) {\n",
       "                $element.empty();\n",
       "                var node = document.createTextNode(text);\n",
       "                element.appendChild(node);\n",
       "            }\n",
       "        },\n",
       "        \n",
       "        do_empty: function (that, info) {\n",
       "            that.named_elements = {};\n",
       "            that.$svg.empty();\n",
       "        },\n",
       "        \n",
       "        svg_parameters_changed: function() {\n",
       "            var that = this;\n",
       "            var style_additions = that.get_JSON(\"svg_style\");\n",
       "            var svg = that.$svg[0];\n",
       "            svg.setAttribute(\"viewBox\", that.model.get(\"viewBox\"));\n",
       "            svg.setAttribute(\"width\", that.model.get(\"svg_width\"));\n",
       "            svg.setAttribute(\"height\", that.model.get(\"svg_height\"));\n",
       "            for (var style_attr in style_additions) {\n",
       "                svg.style[style_attr] = style_additions[style_attr];\n",
       "            }\n",
       "        },\n",
       "        \n",
       "        get_JSON: function(name) {\n",
       "            var json = this.model.get(name);\n",
       "            return $.parseJSON(json);\n",
       "        },\n",
       "        \n",
       "        svg_elt: function(kind) {\n",
       "            return document.createElementNS('http://www.w3.org/2000/svg', kind);\n",
       "        }\n",
       "        \n",
       "    });\n",
       "    \n",
       "    //manager.WidgetManager.register_widget_view('SVGCanvasView', SVGCanvasView);\n",
       "    return {\n",
       "        SVGCanvasView: SVGCanvasView\n",
       "    }\n",
       "});\n"
      ],
      "text/plain": [
       "<IPython.core.display.Javascript object>"
      ]
     },
     "metadata": {},
     "output_type": "display_data"
    },
    {
     "data": {
      "application/javascript": [
       "/*\n",
       "jQuery plugin for a color arrow cursor over an element.\n",
       "\n",
       "Based on\n",
       "http://stackoverflow.com/questions/18779354/assign-color-to-mouse-cursor-using-css\n",
       "*/\n",
       "\n",
       "(function ($) {\n",
       "\n",
       "    $.fn.color_cursor = function(color) {\n",
       "        var that = this;\n",
       "        var cvs = document.createElement(\"canvas\");\n",
       "        cvs.height = 16;\n",
       "        cvs.width = 16;\n",
       "        var ctx = cvs.getContext(\"2d\");\n",
       "        ctx.strokeStyle = color;\n",
       "        ctx.lineWidth = 4;\n",
       "        ctx.lineCap = \"round\";\n",
       "        ctx.moveTo(2, 12);\n",
       "        ctx.lineTo(2, 2);\n",
       "        ctx.lineTo(12, 2);\n",
       "        ctx.moveTo(2, 2);\n",
       "        ctx.lineTo(30, 30)    \n",
       "        ctx.stroke();\n",
       "        var url = cvs.toDataURL();\n",
       "        that.css(\"cursor\", \"url(\" + url + '), auto');\n",
       "        return that;\n",
       "    };\n",
       "\n",
       "    $.fn.color_cursor_reset = function () {\n",
       "        this.css(\"cursor\", \"\");\n",
       "        return this;\n",
       "    };\n",
       "\n",
       "    $.fn.color_cursor.example = function (element) {\n",
       "        debugger;\n",
       "        var d = $(\"<div>Cursor should be red over me. Click to reset.</div>\")\n",
       "            .color_cursor(\"red\");\n",
       "        var reset = function() {\n",
       "            d.color_cursor_reset();\n",
       "            d.html(\"Now the cursor should be normal\");\n",
       "        }\n",
       "        d.click(reset);\n",
       "        element.append(d);\n",
       "        return element;\n",
       "    };\n",
       "\n",
       "})(jQuery)\n"
      ],
      "text/plain": [
       "<IPython.core.display.Javascript object>"
      ]
     },
     "metadata": {},
     "output_type": "display_data"
    }
   ],
   "source": [
    "# Construct the network widget from the graph\n",
    "from jp_gene_viz import dNetwork\n",
    "dNetwork.load_javascript_support()\n",
    "N = dNetwork.NetworkDisplay()\n",
    "N.load_data(G)"
   ]
  },
  {
   "cell_type": "code",
   "execution_count": 29,
   "metadata": {},
   "outputs": [],
   "source": [
    "import matplotlib.colors as colors\n",
    "class MidpointNormalize(colors.Normalize):\n",
    "    def __init__(self, vmin=None, vmax=None, vcenter=None, clip=False):\n",
    "        self.vcenter = vcenter\n",
    "        colors.Normalize.__init__(self, vmin, vmax, clip)\n",
    "\n",
    "    def __call__(self, value, clip=None):\n",
    "        # I'm ignoring masked values and all kinds of edge cases to make a\n",
    "        # simple example...\n",
    "        x, y = [self.vmin, self.vcenter, self.vmax], [0, 0.5, 1]\n",
    "        return np.ma.masked_array(np.interp(value, x, y))\n"
   ]
  },
  {
   "cell_type": "code",
   "execution_count": 30,
   "metadata": {},
   "outputs": [],
   "source": [
    "import matplotlib as mpl\n",
    "from matplotlib.colors import rgb2hex\n",
    "# TODO: make parameter\n",
    "# https://matplotlib.org/3.1.0/tutorials/colors/colormaps.html\n",
    "#cmap = plt.get_cmap('RdYlGn')\n",
    "cmap = plt.get_cmap('PiYG')\n",
    "microbe_norm = MidpointNormalize(vmin=-2., vcenter=0, vmax=1.5)\n",
    "#microbe_norm = mpl.colors.Normalize(vmin=0, vmax=1)\n",
    "kegg_norm = mpl.colors.Normalize(vmin=-2, vmax=2)"
   ]
  },
  {
   "cell_type": "code",
   "execution_count": 31,
   "metadata": {
    "scrolled": false
   },
   "outputs": [
    {
     "data": {
      "application/vnd.jupyter.widget-view+json": {
       "model_id": "94845cf7fed04eba93c24813d3934768",
       "version_major": 2,
       "version_minor": 0
      },
      "text/plain": [
       "SEJveChjaGlsZHJlbj0oVkJveChjaGlsZHJlbj0oRHJvcGRvd24obGF5b3V0PUxheW91dCh3aWR0aD11JzE1MHB4JyksIG9wdGlvbnM9KCdTVkcnLCAnY2FudmFzJyksIHZhbHVlPSdTVkcnKSzigKY=\n"
      ]
     },
     "metadata": {},
     "output_type": "display_data"
    }
   ],
   "source": [
    "# Configure and display the network\n",
    "\n",
    "# TODO: remove congested labels\n",
    "N.labels_button.value = True\n",
    "N.size_slider.value = 1000\n",
    "\n",
    "# TODO: add node size / font size are variable features\n",
    "# TODO: swap circles with squares\n",
    "# TODO: light grey dashed lines for low probability edges\n",
    "# TODO: add edge weight size\n",
    "# TODO: remove labels programmatically\n",
    "# TODO: allow for edges to be colored on a gradient (i.e. greys)\n",
    "\n",
    "# main goals\n",
    "# 1. focus on pathways of interest\n",
    "# 2. advance vs local\n",
    "# 3. weighted by relative abundance\n",
    "\n",
    "# colorize the nodes based on weights (hacky, sorry)\n",
    "dg = N.display_graph\n",
    "for node_name in dg.node_weights:\n",
    "    svg_name = dg.node_name(node_name)\n",
    "\n",
    "    if node_name in name2microbe:\n",
    "        d = name2microbe[node_name]\n",
    "        value = name2microbe[node_name][d_col]        \n",
    "        if np.isnan(value):\n",
    "            value = 0        \n",
    "        node_color = rgb2hex(cmap(microbe_norm(value))[:3])      \n",
    "        \n",
    "        value = norm_microbe_abundance.loc[d['#SampleID']]\n",
    "        #node_color = rgb2hex(cmap(microbe_norm(value))[:3])   \n",
    "        \n",
    "        N.override_node(node_name, color=node_color, radius=value*10, shape='circle')\n",
    "        N.override_label(node_name, hide=value < 0.3, font_size=value*18)\n",
    "        \n",
    "    else:\n",
    "        N.override_node(node_name, shape='rect')\n",
    "    \n",
    "# show labels\n",
    "N.labels_button.value = True\n",
    "\n",
    "# rerun the layout\n",
    "N.layout_click()\n",
    "    \n",
    "# draw the network with the new colors and sizes\n",
    "N.draw()\n",
    "\n",
    "# show the network\n",
    "N.show()"
   ]
  },
  {
   "cell_type": "code",
   "execution_count": 32,
   "metadata": {},
   "outputs": [
    {
     "data": {
      "text/plain": [
       "u'#5ea02c'"
      ]
     },
     "execution_count": 32,
     "metadata": {},
     "output_type": "execute_result"
    }
   ],
   "source": [
    "node_color"
   ]
  },
  {
   "cell_type": "code",
   "execution_count": 33,
   "metadata": {},
   "outputs": [
    {
     "data": {
      "text/plain": [
       "(0.7534025374855826, 0.8961937716262977, 0.5767012687427916, 1.0)"
      ]
     },
     "execution_count": 33,
     "metadata": {},
     "output_type": "execute_result"
    }
   ],
   "source": [
    "cmap(microbe_norm(value))"
   ]
  },
  {
   "cell_type": "code",
   "execution_count": 34,
   "metadata": {},
   "outputs": [
    {
     "data": {
      "text/plain": [
       "(0.5568627450980392, 0.00392156862745098, 0.3215686274509804, 1.0)"
      ]
     },
     "execution_count": 34,
     "metadata": {},
     "output_type": "execute_result"
    }
   ],
   "source": [
    "cmap(microbe_norm(-2))"
   ]
  },
  {
   "cell_type": "code",
   "execution_count": null,
   "metadata": {},
   "outputs": [],
   "source": []
  }
 ],
 "metadata": {
  "kernelspec": {
   "display_name": "Python 2",
   "language": "python",
   "name": "python2"
  },
  "language_info": {
   "codemirror_mode": {
    "name": "ipython",
    "version": 2
   },
   "file_extension": ".py",
   "mimetype": "text/x-python",
   "name": "python",
   "nbconvert_exporter": "python",
   "pygments_lexer": "ipython2",
   "version": "2.7.15"
  }
 },
 "nbformat": 4,
 "nbformat_minor": 2
}
